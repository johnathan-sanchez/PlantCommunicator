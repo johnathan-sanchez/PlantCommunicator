{
 "cells": [
  {
   "cell_type": "markdown",
   "id": "217fbb36",
   "metadata": {},
   "source": [
    "## Imageomics Bioclip-demo \n",
    "BioClip is a model using CLIP architecture as a vison model for general organismal biology. Trained on TreeOfLife-10M dataset. BioClip includes a understanding on the hierarchical structure that relates species across the tree of life.\n",
    "\n",
    "For the purpose of Plant Commnicator I will utilize this model to identify common houseplants"
   ]
  },
  {
   "cell_type": "markdown",
   "id": "3ea262d9",
   "metadata": {},
   "source": [
    "## 1. Load the Model and Tokenizer\n",
    "To begin, we will install the necessary libraries for the model and houseplant identification task. We will load a pre-trained model and its corresponding tokenizer using the Hugging Face Transformers library. The tokenizer is responsible for converting the input text into a format that the model can understand, while the model is used to perform the actual predictions or classifications. We will specify the model name, load the tokenizer, and then load the model. This process ensures that we have all the necessary components to perform text processing and analysis."
   ]
  },
  {
   "cell_type": "code",
   "execution_count": 3,
   "id": "ce366ad4-1d48-4f7e-b0b6-0a15015331f6",
   "metadata": {},
   "outputs": [],
   "source": [
    "import open_clip\n",
    "import torch\n",
    "import requests\n",
    "import numpy as np\n",
    "from PIL import Image\n",
    "from io import BytesIO\n",
    "import pandas as pd\n",
    "\n",
    "model, preprocess_train, preprocess_val = open_clip.create_model_and_transforms('hf-hub:imageomics/bioclip')\n",
    "tokenizer = open_clip.get_tokenizer('hf-hub:imageomics/bioclip')"
   ]
  },
  {
   "cell_type": "markdown",
   "id": "93dfb993",
   "metadata": {},
   "source": [
    "## 2. Tokenize Common houseplant names\n",
    "\n",
    "We will input a file that includes a list of common houseplant names included in the BioClip model. This will be used to classify and tokenize the ext using the model's tokenizer. This prepares the items for input into the model by converting them into a format the model can process."
   ]
  },
  {
   "cell_type": "code",
   "execution_count": 4,
   "id": "3245fe79",
   "metadata": {},
   "outputs": [
    {
     "name": "stdout",
     "output_type": "stream",
     "text": [
      "Tokenized Plant Names: tensor([[49406,  8798,  3912,  ...,     0,     0,     0],\n",
      "        [49406,  3021, 10647,  ...,     0,     0,     0],\n",
      "        [49406,   628, 41965,  ...,     0,     0,     0],\n",
      "        ...,\n",
      "        [49406,  3329,   539,  ...,     0,     0,     0],\n",
      "        [49406,  9287,  4108,  ...,     0,     0,     0],\n",
      "        [49406,  1192,   917,  ...,     0,     0,     0]])\n"
     ]
    }
   ],
   "source": [
    "# Load the CSV file\n",
    "df = pd.read_csv(\"./houseplants.csv\")  # Ensure the path is correct\n",
    "\n",
    "# Extract plant names (common or species names depending on the column names)\n",
    "plant_names = df[\"Common Name\"].tolist()\n",
    "\n",
    "tokenized_names = tokenizer(plant_names)\n",
    "\n",
    "print(\"Tokenized Plant Names:\", tokenized_names)"
   ]
  },
  {
   "cell_type": "code",
   "execution_count": null,
   "id": "e3dde969-4052-46d3-b61a-0b8d2e46d38c",
   "metadata": {},
   "outputs": [],
   "source": [
    "image_path=\"./images/RubberTreePlant.webp\"\n",
    "image = preprocess_val(Image.open(image_path)).unsqueeze(0)"
   ]
  },
  {
   "cell_type": "code",
   "execution_count": 8,
   "id": "9309871e-d6a2-472c-a237-79856796ddfe",
   "metadata": {},
   "outputs": [
    {
     "name": "stdout",
     "output_type": "stream",
     "text": [
      "Predicted Plant: Pothos\n"
     ]
    }
   ],
   "source": [
    "device = \"cuda\" if torch.cuda.is_available() else \"cpu\"\n",
    "model = model.to(device)\n",
    "image = image.to(device)\n",
    "\n",
    "# Get text embeddings\n",
    "with torch.no_grad():\n",
    "    image_features = model.encode_image(image)\n",
    "    text_features = model.encode_text(tokenized_names)\n",
    "\n",
    "# Compute similarity\n",
    "similarities = torch.cosine_similarity(image_features, text_features)\n",
    "predicted_index = similarities.argmax().item()\n",
    "predicted_plant = plant_names[predicted_index]\n",
    "\n",
    "print(\"Predicted Plant:\", predicted_plant)"
   ]
  },
  {
   "cell_type": "markdown",
   "id": "e753444b",
   "metadata": {},
   "source": [
    "## CLIP output and accuracy\n",
    "When given a csv file with names of common household plant names and an input of a plant included in the list the output results are incorrect. It outputs Pothos, which is not the intended result."
   ]
  },
  {
   "cell_type": "markdown",
   "id": "8e177d1b",
   "metadata": {},
   "source": [
    "## Gradio client api\n",
    "The next method of producing the desired output when given a image file is through the  gradio client api method. This is the recommended api to use for the bioclip model. "
   ]
  },
  {
   "cell_type": "code",
   "execution_count": null,
   "id": "7a39837b",
   "metadata": {},
   "outputs": [
    {
     "name": "stdout",
     "output_type": "stream",
     "text": [
      "Loaded as API: https://imageomics-bioclip-demo.hf.space ✔\n",
      "({'label': 'Plantae Tracheophyta Magnoliopsida Rosales Moraceae Ficus elastica (Indian rubber fig)', 'confidences': [{'label': 'Plantae Tracheophyta Magnoliopsida Rosales Moraceae Ficus elastica (Indian rubber fig)', 'confidence': 0.8459776043891907}, {'label': 'Plantae Tracheophyta Magnoliopsida Ericales Marcgraviaceae Souroubea pachyphylla', 'confidence': 0.053483083844184875}, {'label': 'Plantae Tracheophyta Magnoliopsida Ericales Ericaceae Rhododendron cuneatum', 'confidence': 0.02335861325263977}, {'label': 'Plantae Tracheophyta Magnoliopsida Asparagales Orchidaceae Bulbophyllum rufilabrum', 'confidence': 0.010561013594269753}, {'label': 'Plantae Tracheophyta Magnoliopsida Ericales Sapotaceae Manilkara rufula', 'confidence': 0.009562669321894646}]}, 'C:\\\\Users\\\\Imbat\\\\AppData\\\\Local\\\\Temp\\\\gradio\\\\6ee223c4639b8a15d2714acc593920280834c7f1f306134d070f15b2fd477d03\\\\image.webp', \"<p>Check out the EOL entry for Plantae Tracheophyta Magnoliopsida Rosales Moraceae Ficus elastica  to learn more: <a href=https://eol.org/pages/594821 target='_blank'>https://eol.org/pages/594821</a>.</p>\")\n"
     ]
    }
   ],
   "source": [
    "from gradio_client import Client, handle_file\n",
    "\n",
    "client = Client(\"imageomics/bioclip-demo\")\n",
    "result = client.predict(\n",
    "\t\timg=handle_file('./images/RubberTreePlant.webp'),\n",
    "\t\trank=\"Species\",\n",
    "\t\tapi_name=\"/lambda\"\n",
    ")\n",
    "print(result)"
   ]
  },
  {
   "cell_type": "markdown",
   "id": "dbd002a9",
   "metadata": {},
   "source": [
    "This code produces the correct output since it is a direct output of the model. Going forward the app will use this api"
   ]
  },
  {
   "cell_type": "markdown",
   "id": "a8c8fc55",
   "metadata": {},
   "source": [
    "# Plant Disease Detection Workflow\n",
    "\n",
    "In this section, we will explore different models to identify the best one for detecting plant diseases. The workflow includes loading the necessary models and processors, asking relevant questions about the plant's health, and analyzing the responses to determine the condition of the plant. This process will help in diagnosing any potential issues and providing appropriate care recommendations.\n",
    "\n",
    "We are using the BLIP (Bootstrapping Language-Image Pre-training) model from Hugging Face. BLIP is designed for vision-language tasks, such as visual question answering (VQA). It leverages both visual and textual information to generate accurate responses to questions about images. By using this model, we can ask specific questions about the plant's health and obtain detailed answers based on the visual input."
   ]
  },
  {
   "cell_type": "markdown",
   "id": "3bbb6cde",
   "metadata": {},
   "source": [
    "Loading the model"
   ]
  },
  {
   "cell_type": "code",
   "execution_count": 1,
   "id": "78f9d008",
   "metadata": {},
   "outputs": [],
   "source": [
    "from transformers import BlipProcessor, BlipForQuestionAnswering\n",
    "from PIL import Image\n",
    "import torch\n",
    "import os\n",
    "from dotenv import load_dotenv\n",
    "\n",
    "# Load environment variables from .env\n",
    "load_dotenv()\n",
    "\n",
    "huggingface_token = os.getenv(\"HUGGINGFACE_TOKEN\")\n",
    "\n",
    "if not huggingface_token:\n",
    "    raise ValueError(\"Hugging Face token is missing. Please set the HUGGINGFACE_TOKEN environment variable.\")\n",
    "\n",
    "# Load model and processor\n",
    "processor = BlipProcessor.from_pretrained(\"Salesforce/blip-vqa-base\", token=huggingface_token) \n",
    "model = BlipForQuestionAnswering.from_pretrained(\"Salesforce/blip-vqa-base\", token=huggingface_token)\n",
    "\n",
    "\n"
   ]
  },
  {
   "cell_type": "markdown",
   "id": "3afa0d0a",
   "metadata": {},
   "source": [
    "inputting an image of a plant with a question regarding physical appearance"
   ]
  },
  {
   "cell_type": "code",
   "execution_count": null,
   "id": "b0fcc4dd",
   "metadata": {},
   "outputs": [
    {
     "name": "stdout",
     "output_type": "stream",
     "text": [
      "no\n"
     ]
    }
   ],
   "source": [
    "# Load an image of a plant\n",
    "image = Image.open(\"images/RubberTreePlant.webp\").convert(\"RGB\")\n",
    "\n",
    "# Ask a question\n",
    "question = \"Are there any yellow or brown spots on the leaves?\"\n",
    "inputs = processor(image, question, return_tensors=\"pt\")\n",
    "\n",
    "# Generate answer\n",
    "output = model.generate(**inputs)\n",
    "answer = processor.decode(output[0], skip_special_tokens=True)\n",
    "\n",
    "print(answer)"
   ]
  },
  {
   "cell_type": "markdown",
   "id": "4537ef6b",
   "metadata": {},
   "source": [
    "developing new methods to determine severity of plant condition to limit the model's use"
   ]
  },
  {
   "cell_type": "code",
   "execution_count": null,
   "id": "09fd7afe",
   "metadata": {},
   "outputs": [
    {
     "name": "stdout",
     "output_type": "stream",
     "text": [
      "healthy\n"
     ]
    }
   ],
   "source": [
    "# Load an image of a plant\n",
    "image = Image.open(\"images/dying-plant.webp\").convert(\"RGB\")\n",
    "\n",
    "question = \"on a scale of 1-10 whats the health condition of this plant?\"\n",
    "\n",
    "inputs = processor(image, question, return_tensors=\"pt\")\n",
    "\n",
    "# Generate answer\n",
    "output = model.generate(**inputs)\n",
    "answer = processor.decode(output[0], skip_special_tokens=True)\n",
    "\n",
    "print(answer)"
   ]
  },
  {
   "cell_type": "markdown",
   "id": "267c8dbd",
   "metadata": {},
   "source": [
    "asking the model multiple diagnostic questions on the plant's condition"
   ]
  },
  {
   "cell_type": "code",
   "execution_count": null,
   "id": "2a8c8d14",
   "metadata": {},
   "outputs": [
    {
     "name": "stdout",
     "output_type": "stream",
     "text": [
      "What color are the leaves? : green\n",
      "Are there any yellow, brown, or black spots on the leaves? : brown\n",
      "Do the leaves look pale or discolored? : green\n",
      "Are the leaves curled, wrinkled, or distorted? : curved\n",
      "Do the leaves have holes or bite marks? : yes\n",
      "Are the leaves wilted or drooping? : wilted\n",
      "Is the plant stem firm or soft and mushy? : firm\n",
      "Are there any black or dark spots on the stem? : black\n",
      "Are there any fungi or mold around the base of the plant? : no\n",
      "Are there any small insects visible on the leaves or stem? : yes\n",
      "Are there any white, web-like substances on the plant? : no\n",
      "Do the leaves have tiny dots or specks? : yes\n",
      "Is the soil dry or moist? : dry\n",
      "Does the soil appear waterlogged or compacted? : no\n",
      "Are there any white deposits on the soil? : no\n"
     ]
    }
   ],
   "source": [
    "plant_health_questions = {\n",
    "    \"leaf_color\": [\n",
    "        \"What color are the leaves?\",\n",
    "        \"Are there any yellow, brown, or black spots on the leaves?\",\n",
    "        \"Do the leaves look pale or discolored?\"\n",
    "    ],\n",
    "    \"leaf_texture\": [\n",
    "        \"Are the leaves curled, wrinkled, or distorted?\",\n",
    "        \"Do the leaves have holes or bite marks?\",\n",
    "        \"Are the leaves wilted or drooping?\"\n",
    "    ],\n",
    "    \"stem_health\": [\n",
    "        \"Is the plant stem firm or soft and mushy?\",\n",
    "        \"Are there any black or dark spots on the stem?\",\n",
    "        \"Are there any fungi or mold around the base of the plant?\"\n",
    "    ],\n",
    "    \"pest_damage\": [\n",
    "        \"Are there any small insects visible on the leaves or stem?\",\n",
    "        \"Are there any white, web-like substances on the plant?\",\n",
    "        \"Do the leaves have tiny dots or specks?\"\n",
    "    ],\n",
    "}\n",
    "\n",
    "for questionCategory, questions in plant_health_questions.items():\n",
    "    print(f\"Plant Health Category: {questionCategory}\")\n",
    "    for question in questions:\n",
    "        inputs = processor(image, question, return_tensors=\"pt\")\n",
    "        output = model.generate(**inputs)\n",
    "        answer = processor.decode(output[0], skip_special_tokens=True)\n",
    "        print(question, \":\", answer)\n"
   ]
  },
  {
   "cell_type": "code",
   "execution_count": 11,
   "id": "ac7a0671",
   "metadata": {},
   "outputs": [],
   "source": [
    "def analyze_plant_health(image_path):\n",
    "    image = Image.open(image_path).convert(\"RGB\")\n",
    "    for questionCategory, questions in plant_health_questions.items():\n",
    "        print(f\"Plant Health Category: {questionCategory}\")\n",
    "        for question in questions:\n",
    "            inputs = processor(image, question, return_tensors=\"pt\")\n",
    "            output = model.generate(**inputs)\n",
    "            answer = processor.decode(output[0], skip_special_tokens=True)\n",
    "            print(question, \":\", answer)"
   ]
  },
  {
   "cell_type": "code",
   "execution_count": null,
   "id": "93b93a1c",
   "metadata": {},
   "outputs": [
    {
     "name": "stdout",
     "output_type": "stream",
     "text": [
      "Plant Health Category: leaf_color\n",
      "What color are the leaves? : green\n",
      "Are there any yellow, brown, or black spots on the leaves? : no\n",
      "Do the leaves look pale or discolored? : dark\n",
      "Plant Health Category: leaf_texture\n",
      "Are the leaves curled, wrinkled, or distorted? : curved\n",
      "Do the leaves have holes or bite marks? : no\n",
      "Are the leaves wilted or drooping? : wilted\n",
      "Plant Health Category: stem_health\n",
      "Is the plant stem firm or soft and mushy? : firm\n",
      "Are there any black or dark spots on the stem? : dark\n",
      "Are there any fungi or mold around the base of the plant? : no\n",
      "Plant Health Category: pest_damage\n",
      "Are there any small insects visible on the leaves or stem? : no\n",
      "Are there any white, web-like substances on the plant? : no\n",
      "Do the leaves have tiny dots or specks? : no\n",
      "Plant Health Category: soil_conditions\n",
      "Is the soil dry or moist? : moist\n",
      "Does the soil appear waterlogged or compacted? : no\n",
      "Are there any white deposits on the soil? : no\n"
     ]
    }
   ],
   "source": [
    "analyze_plant_health('images/RubberTreePlant.webp')"
   ]
  },
  {
   "cell_type": "code",
   "execution_count": null,
   "id": "69d70df7",
   "metadata": {},
   "outputs": [],
   "source": [
    "plant_health_questions = {\n",
    "    \"Overwatering\": [\n",
    "        \"Are there any white fuzzy spots?\",\n",
    "        \"Are there any yellow, brown, or black spots on the leaves?\",\n",
    "    ],\n",
    "    \"Underwatering\": [\n",
    "        \"Are the leaves wilting?\",\n",
    "        \"Are the leaves crispy?\",\n",
    "        \"Are the leaves dropping off?\",\n",
    "    ],\n",
    "    \"Low_light\": [\n",
    "        \"Are the leaves yellow?\",\n",
    "        \n",
    "    ],\n",
    "    \"High_light\": [\n",
    "        \"Are the leaves sunburned?\",\n",
    "        \"Are there any brown edges on the leaves?\",\n",
    "    ],\n",
    "    \"Nutrient_deficiency\": [\n",
    "        \"Are the leaves turning brown?\",\n",
    "        \"Are there any spots or patches on the leaves?\",\n",
    "        \"Are the leaves curling?\",\n",
    "    ],\n",
    "    \"pest_damage\": [\n",
    "        \"Are there any small insects visible on the plant?\",\n",
    "        \"Are there any white, web-like substances on the plant?\",\n",
    "        \"Do the leaves have tiny dots or specks?\"\n",
    "    ],\n",
    "    \"root_bound\": [\n",
    "        \"Are the roots growing out of the pot?\",\n",
    "        \"Is the plant pot too small for the plant?\",\n",
    "    ],\n",
    "}"
   ]
  },
  {
   "cell_type": "code",
   "execution_count": null,
   "id": "57f58db1",
   "metadata": {},
   "outputs": [],
   "source": [
    "def analyze_plant_health(image_path):\n",
    "    image = Image.open(image_path).convert(\"RGB\")\n",
    "    for questionCategory, questions in plant_health_questions.items():\n",
    "        print(f\"Plant Health Category: {questionCategory}\")\n",
    "        for question in questions:\n",
    "            inputs = processor(image, question, return_tensors=\"pt\")\n",
    "            output = model.generate(**inputs)\n",
    "            answer = processor.decode(output[0], skip_special_tokens=True)\n",
    "            print(question, \":\", answer)"
   ]
  },
  {
   "cell_type": "code",
   "execution_count": 4,
   "id": "d54bd499",
   "metadata": {},
   "outputs": [
    {
     "name": "stdout",
     "output_type": "stream",
     "text": [
      "Plant Health Category: Overwatering\n",
      "Are there any white fuzzy spots? : no\n",
      "Are there any yellow, brown, or black spots on the leaves? : no\n",
      "Plant Health Category: Underwatering\n",
      "Are the leaves drooping or wilting? : wilting\n",
      "Are the leaves crispy or dry? : dry\n",
      "Plant Health Category: Low_light\n",
      "Are the leaves small or sparse? : small\n",
      "Are the leaves turning yellow or dropping off? : neither\n",
      "Plant Health Category: High_light\n",
      "Are the leaves scorched or sunburned? : no\n",
      "Are there any brown edges on the leaves? : yes\n",
      "Plant Health Category: Nutrient_deficiency\n",
      "Are the leaves yellowing or turning brown? : turning brown\n",
      "Are there any spots or patches on the leaves? : no\n",
      "Are the leaves curling or twisting? : twisting\n",
      "Plant Health Category: pest_damage\n",
      "Are there any small insects visible on the leaves or stem? : no\n",
      "Are there any white, web-like substances on the plant? : no\n",
      "Do the leaves have tiny dots or specks? : no\n",
      "Plant Health Category: root_bound\n",
      "Are the roots growing out of the pot? : yes\n",
      "Is the plant pot too small for the plant? : no\n"
     ]
    }
   ],
   "source": [
    "analyze_plant_health('images/RubberTreePlant.webp')"
   ]
  },
  {
   "cell_type": "code",
   "execution_count": 7,
   "id": "8f022346",
   "metadata": {},
   "outputs": [
    {
     "name": "stdout",
     "output_type": "stream",
     "text": [
      "Plant Health Category: Overwatering\n",
      "Are there any white fuzzy spots? : no\n",
      "Are there any yellow, brown, or black spots on the leaves? : no\n",
      "Plant Health Category: Underwatering\n",
      "Are the leaves wilting? : no\n",
      "Are the leaves crispy? : no\n",
      "Are the leaves dry? : no\n",
      "Plant Health Category: Low_light\n",
      "Are the leaves turning yellow? : no\n",
      "Are the leaves dropping off? : yes\n",
      "Plant Health Category: High_light\n",
      "Are the leaves sunburned? : no\n",
      "Are there any brown edges on the leaves? : no\n",
      "Plant Health Category: Nutrient_deficiency\n",
      "Are the leaves turning brown? : no\n",
      "Are there any spots or patches on the leaves? : no\n",
      "Are the leaves curling? : yes\n",
      "Plant Health Category: pest_damage\n",
      "Are there any small insects visible on the leaves or stem? : leaves\n",
      "Are there any white, web-like substances on the plant? : no\n",
      "Do the leaves have tiny dots or specks? : yes\n",
      "Plant Health Category: root_bound\n",
      "Are the roots growing out of the pot? : yes\n",
      "Is the plant pot too small for the plant? : no\n"
     ]
    }
   ],
   "source": [
    "analyze_plant_health('images/dying-plant.webp')"
   ]
  },
  {
   "cell_type": "code",
   "execution_count": null,
   "id": "c1e6a57e",
   "metadata": {},
   "outputs": [],
   "source": [
    "def analyze_plant_health(image_path):\n",
    "    image = Image.open(image_path).convert(\"RGB\")\n",
    "    for questionCategory, questions in plant_health_questions.items():\n",
    "    #print(f\"Plant Health Category: {questionCategory}\")\n",
    "        for question in questions:\n",
    "            inputs = processor(image, question, return_tensors=\"pt\")\n",
    "            output = model.generate(**inputs)\n",
    "            answer = processor.decode(output[0], skip_special_tokens=True)\n",
    "            if(answer == \"yes\"):\n",
    "                print(questionCategory, \":\", question)\n",
    "            "
   ]
  },
  {
   "cell_type": "code",
   "execution_count": null,
   "id": "0634a553",
   "metadata": {},
   "outputs": [
    {
     "name": "stdout",
     "output_type": "stream",
     "text": [
      "Low_light : Are the leaves dropping off?\n",
      "Nutrient_deficiency : Are the leaves curling?\n",
      "pest_damage : Do the leaves have tiny dots or specks?\n",
      "root_bound : Are the roots growing out of the pot?\n"
     ]
    }
   ],
   "source": [
    "analyze_plant_health('images/dying-plant.webp')"
   ]
  },
  {
   "cell_type": "code",
   "execution_count": 13,
   "id": "4a922a5d",
   "metadata": {},
   "outputs": [
    {
     "name": "stdout",
     "output_type": "stream",
     "text": [
      "no\n"
     ]
    }
   ],
   "source": [
    "image_path = 'images/misshapen.jpg'\n",
    "image = Image.open(image_path).convert(\"RGB\")\n",
    "question = \"are the leaves misshapen?\"\n",
    "inputs = processor(image, question, return_tensors=\"pt\")\n",
    "output = model.generate(**inputs)\n",
    "answer = processor.decode(output[0], skip_special_tokens=True)\n",
    "print(answer)"
   ]
  },
  {
   "cell_type": "code",
   "execution_count": 18,
   "id": "29e980de",
   "metadata": {},
   "outputs": [
    {
     "name": "stdout",
     "output_type": "stream",
     "text": [
      "Low_light : Are the leaves dropping off?\n",
      "Nutrient_deficiency : Are the leaves curling?\n",
      "pest_damage : Do the leaves have tiny dots or specks?\n",
      "root_bound : Are the roots growing out of the pot?\n",
      "\n",
      "\n",
      "Low_light : Are the leaves dropping off?\n",
      "Nutrient_deficiency : Are the leaves curling?\n",
      "pest_damage : Do the leaves have tiny dots or specks?\n",
      "root_bound : Are the roots growing out of the pot?\n",
      "\n",
      "\n",
      "Low_light : Are the leaves dropping off?\n",
      "Nutrient_deficiency : Are the leaves curling?\n",
      "pest_damage : Do the leaves have tiny dots or specks?\n",
      "root_bound : Are the roots growing out of the pot?\n",
      "\n",
      "\n"
     ]
    }
   ],
   "source": [
    "analyze_plant_health('images/dying-plant.webp')\n",
    "print(\"\\n\")\n",
    "analyze_plant_health('images/dying-plant.webp')\n",
    "print(\"\\n\")\n",
    "analyze_plant_health('images/dying-plant.webp')\n",
    "print(\"\\n\")"
   ]
  },
  {
   "cell_type": "code",
   "execution_count": null,
   "id": "4f73dd00",
   "metadata": {},
   "outputs": [],
   "source": [
    "def analyze_plant_health(image_path):\n",
    "    image = Image.open(image_path).convert(\"RGB\")\n",
    "    for questionCategory, questions in plant_health_questions.items():\n",
    "    #print(f\"Plant Health Category: {questionCategory}\")\n",
    "        for question in questions:\n",
    "            inputs = processor(image, question, return_tensors=\"pt\")\n",
    "            output = model.generate(**inputs)\n",
    "            answer = processor.decode(output[0], skip_special_tokens=True)\n",
    "            if(answer == \"yes\"):\n",
    "                print(questionCategory, \":\", question)"
   ]
  }
 ],
 "metadata": {
  "kernelspec": {
   "display_name": "Python 3",
   "language": "python",
   "name": "python3"
  },
  "language_info": {
   "codemirror_mode": {
    "name": "ipython",
    "version": 3
   },
   "file_extension": ".py",
   "mimetype": "text/x-python",
   "name": "python",
   "nbconvert_exporter": "python",
   "pygments_lexer": "ipython3",
   "version": "3.13.1"
  }
 },
 "nbformat": 4,
 "nbformat_minor": 5
}
