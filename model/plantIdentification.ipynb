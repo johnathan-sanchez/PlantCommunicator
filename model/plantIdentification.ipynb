{
 "cells": [
  {
   "cell_type": "code",
   "execution_count": 1,
   "id": "ce366ad4-1d48-4f7e-b0b6-0a15015331f6",
   "metadata": {},
   "outputs": [],
   "source": [
    "import open_clip\n",
    "\n",
    "model, preprocess_train, preprocess_val = open_clip.create_model_and_transforms('hf-hub:imageomics/bioclip')\n",
    "tokenizer = open_clip.get_tokenizer('hf-hub:imageomics/bioclip')"
   ]
  },
  {
   "cell_type": "code",
   "execution_count": 2,
   "id": "e3dde969-4052-46d3-b61a-0b8d2e46d38c",
   "metadata": {},
   "outputs": [],
   "source": [
    "image_path=\"./plant-image.jpg\""
   ]
  },
  {
   "cell_type": "code",
   "execution_count": null,
   "id": "9309871e-d6a2-472c-a237-79856796ddfe",
   "metadata": {},
   "outputs": [],
   "source": [
    "from PIL import Image\n",
    "import torch\n",
    "\n",
    "image = preprocess_val(Image.open(image_path)).unsqueeze(0)"
   ]
  }
 ],
 "metadata": {
  "kernelspec": {
   "display_name": "Python 3",
   "language": "python",
   "name": "python3"
  },
  "language_info": {
   "codemirror_mode": {
    "name": "ipython",
    "version": 3
   },
   "file_extension": ".py",
   "mimetype": "text/x-python",
   "name": "python",
   "nbconvert_exporter": "python",
   "pygments_lexer": "ipython3",
   "version": "3.13.1"
  }
 },
 "nbformat": 4,
 "nbformat_minor": 5
}
